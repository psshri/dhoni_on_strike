{
 "cells": [
  {
   "cell_type": "code",
   "execution_count": 30,
   "metadata": {},
   "outputs": [],
   "source": [
    "## libraries\n",
    "\n",
    "import requests\n",
    "import datetime\n",
    "import json\n",
    "from collections import namedtuple"
   ]
  },
  {
   "cell_type": "code",
   "execution_count": 7,
   "metadata": {},
   "outputs": [],
   "source": [
    "## Functions\n",
    "\n",
    "def readAPIkey(file_path):\n",
    "    try:\n",
    "        with open(file_path, 'r') as file:\n",
    "            api_key = file.read().strip()\n",
    "        return api_key\n",
    "    except FileNotFoundError:\n",
    "        print(f\"Error: File '{file_path}' not found.\")\n",
    "    except IOError:\n",
    "        print(f\"Error: Unable to read file '{file_path}'.\")"
   ]
  },
  {
   "cell_type": "code",
   "execution_count": 20,
   "metadata": {},
   "outputs": [],
   "source": [
    "## constants\n",
    "\n",
    "X_RapidAPI_Host = \"cricket-live-data.p.rapidapi.com\"\n",
    "\n",
    "api_key_path = 'config/apiKey.txt'\n",
    "X_RapidAPI_Key = readAPIkey(api_key_path)\n",
    "\n",
    "today = datetime.date.today()\n",
    "today_string = today.strftime(\"%Y-%m-%d\")\n",
    "\n",
    "ipl_series_id = 1430\n",
    " \n",
    "team_name = \"Delhi Capitals\" ## delhi capitals\n",
    "player_name = \"d\" ## mitchell marsh"
   ]
  },
  {
   "cell_type": "code",
   "execution_count": 9,
   "metadata": {},
   "outputs": [],
   "source": [
    "## API Enpoint\n",
    "\n",
    "url = \"https://cricket-live-data.p.rapidapi.com/fixtures-by-date/\" + today_string\n",
    "headers = {\n",
    "\t\"X-RapidAPI-Key\": X_RapidAPI_Key,\n",
    "\t\"X-RapidAPI-Host\": X_RapidAPI_Host\n",
    "}"
   ]
  },
  {
   "cell_type": "code",
   "execution_count": 10,
   "metadata": {},
   "outputs": [],
   "source": [
    "## get today's fixtures\n",
    "\n",
    "response = requests.get(url, headers=headers)\n",
    "json_data = response.json()\n",
    "json_data_path = \"fetchFixtures/fixtures1.json\" # change the path accordingly\n",
    "with open(json_data_path, \"w\") as file:\n",
    "    json.dump(json_data, file, indent=4)"
   ]
  },
  {
   "cell_type": "code",
   "execution_count": 21,
   "metadata": {},
   "outputs": [],
   "source": [
    "## find out if there is a ${team_name} match today\n",
    "\n",
    "match_today = 0 ## changes to 1 if there is a match today\n",
    "match_time_330 = 0\n",
    "match_time_730 = 0\n",
    "match_today_list = []\n",
    "\n",
    "with open(json_data_path, \"r\") as file:\n",
    "    todays_matches = json.load(file)"
   ]
  },
  {
   "cell_type": "code",
   "execution_count": 31,
   "metadata": {},
   "outputs": [],
   "source": [
    "matchInfo = namedtuple('matchInfo', ['id', 'team1', 'team2', 'date', 'time'])"
   ]
  },
  {
   "cell_type": "code",
   "execution_count": 32,
   "metadata": {},
   "outputs": [
    {
     "name": "stdout",
     "output_type": "stream",
     "text": [
      "1\n"
     ]
    }
   ],
   "source": [
    "for item in todays_matches['results']:\n",
    "    if item['series_id'] == ipl_series_id:\n",
    "        if item['home']['name'] == team_name or item['away']['name'] == team_name:\n",
    "            match_today = 1\n",
    "            match_date = today_string\n",
    "            match_time = todays_matches['results'][5]['date'][11:19]\n",
    "            match_info = matchInfo(item['id'], item['home']['name'], item['away']['name'], match_date, match_time)\n",
    "            if match_time == '14:00:00':\n",
    "                match_time_730 = 1\n",
    "            else:\n",
    "                match_time_330 = 1\n",
    "\n",
    "print(match_today)"
   ]
  },
  {
   "cell_type": "code",
   "execution_count": 33,
   "metadata": {},
   "outputs": [
    {
     "data": {
      "text/plain": [
       "matchInfo(team1='Punjab Kings', team2='Delhi Capitals', date='2023-05-17', time='14:00:00')"
      ]
     },
     "execution_count": 33,
     "metadata": {},
     "output_type": "execute_result"
    }
   ],
   "source": [
    "match_info"
   ]
  },
  {
   "cell_type": "code",
   "execution_count": 28,
   "metadata": {},
   "outputs": [
    {
     "data": {
      "text/plain": [
       "'14:00:00'"
      ]
     },
     "execution_count": 28,
     "metadata": {},
     "output_type": "execute_result"
    }
   ],
   "source": [
    "todays_matches['results'][5]['date'][11:19]"
   ]
  },
  {
   "cell_type": "code",
   "execution_count": null,
   "metadata": {},
   "outputs": [],
   "source": []
  }
 ],
 "metadata": {
  "kernelspec": {
   "display_name": "Python 3",
   "language": "python",
   "name": "python3"
  },
  "language_info": {
   "codemirror_mode": {
    "name": "ipython",
    "version": 3
   },
   "file_extension": ".py",
   "mimetype": "text/x-python",
   "name": "python",
   "nbconvert_exporter": "python",
   "pygments_lexer": "ipython3",
   "version": "3.10.6"
  },
  "orig_nbformat": 4
 },
 "nbformat": 4,
 "nbformat_minor": 2
}

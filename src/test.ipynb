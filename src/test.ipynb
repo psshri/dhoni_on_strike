{
 "cells": [
  {
   "cell_type": "code",
   "execution_count": 49,
   "metadata": {},
   "outputs": [],
   "source": [
    "## libraries\n",
    "\n",
    "import requests\n",
    "import datetime\n",
    "import json\n",
    "from collections import namedtuple"
   ]
  },
  {
   "cell_type": "code",
   "execution_count": 50,
   "metadata": {},
   "outputs": [],
   "source": [
    "## Functions\n",
    "\n",
    "def readAPIkey(file_path):\n",
    "    try:\n",
    "        with open(file_path, 'r') as file:\n",
    "            api_key = file.read().strip()\n",
    "        return api_key\n",
    "    except FileNotFoundError:\n",
    "        print(f\"Error: File '{file_path}' not found.\")\n",
    "    except IOError:\n",
    "        print(f\"Error: Unable to read file '{file_path}'.\")"
   ]
  },
  {
   "cell_type": "code",
   "execution_count": 109,
   "metadata": {},
   "outputs": [],
   "source": [
    "## constants\n",
    "\n",
    "X_RapidAPI_Host = \"cricket-live-data.p.rapidapi.com\"\n",
    "\n",
    "api_key_path = 'config/apiKey.txt'\n",
    "X_RapidAPI_Key = readAPIkey(api_key_path)\n",
    "\n",
    "today = datetime.date.today()\n",
    "today_string = today.strftime(\"%Y-%m-%d\")\n",
    "\n",
    "ipl_series_id = 1430\n",
    " \n",
    "team_name = \"Delhi Capitals\" ## delhi capitals\n",
    "player_id = 84255 ## msdhoni"
   ]
  },
  {
   "cell_type": "code",
   "execution_count": 52,
   "metadata": {},
   "outputs": [],
   "source": [
    "## API Enpoint\n",
    "\n",
    "url = \"https://cricket-live-data.p.rapidapi.com/fixtures-by-date/\" + today_string\n",
    "headers = {\n",
    "\t\"X-RapidAPI-Key\": X_RapidAPI_Key,\n",
    "\t\"X-RapidAPI-Host\": X_RapidAPI_Host\n",
    "}"
   ]
  },
  {
   "cell_type": "code",
   "execution_count": 53,
   "metadata": {},
   "outputs": [],
   "source": [
    "## get today's fixtures\n",
    "\n",
    "response = requests.get(url, headers=headers)\n",
    "json_data = response.json()\n",
    "json_data_path = \"fixtures.json\" # change the path accordingly\n",
    "with open(json_data_path, \"w\") as file:\n",
    "    json.dump(json_data, file, indent=4)"
   ]
  },
  {
   "cell_type": "code",
   "execution_count": 54,
   "metadata": {},
   "outputs": [],
   "source": [
    "## find out if there is a ${team_name} match today\n",
    "\n",
    "match_today = 0 ## changes to 1 if there is a match today\n",
    "match_time_330 = 0\n",
    "match_time_730 = 0\n",
    "match_today_list = []\n",
    "\n",
    "with open(json_data_path, \"r\") as file:\n",
    "    todays_matches = json.load(file)"
   ]
  },
  {
   "cell_type": "code",
   "execution_count": 55,
   "metadata": {},
   "outputs": [],
   "source": [
    "matchInfo = namedtuple('matchInfo', ['id', 'team1', 'team2', 'date', 'time'])"
   ]
  },
  {
   "cell_type": "code",
   "execution_count": 56,
   "metadata": {},
   "outputs": [
    {
     "name": "stdout",
     "output_type": "stream",
     "text": [
      "match_today:  1\n",
      "match_time_730:  1\n",
      "match_time_330:  0\n"
     ]
    }
   ],
   "source": [
    "for item in todays_matches['results']:\n",
    "    if item['series_id'] == ipl_series_id:\n",
    "        if item['home']['name'] == team_name or item['away']['name'] == team_name:\n",
    "            match_today = 1\n",
    "            match_date = today_string\n",
    "            match_time = todays_matches['results'][5]['date'][11:19]\n",
    "            match_info = matchInfo(item['id'], item['home']['name'], item['away']['name'], match_date, match_time)\n",
    "            if match_time == '14:00:00':\n",
    "                match_time_730 = 1\n",
    "            else:\n",
    "                match_time_330 = 1\n",
    "\n",
    "print(\"match_today: \", match_today)\n",
    "print(\"match_time_730: \", match_time_730)\n",
    "print(\"match_time_330: \", match_time_330)"
   ]
  },
  {
   "cell_type": "code",
   "execution_count": 57,
   "metadata": {},
   "outputs": [
    {
     "data": {
      "text/plain": [
       "matchInfo(id=2719089, team1='Punjab Kings', team2='Delhi Capitals', date='2023-05-17', time='14:00:00')"
      ]
     },
     "execution_count": 57,
     "metadata": {},
     "output_type": "execute_result"
    }
   ],
   "source": [
    "match_info"
   ]
  },
  {
   "cell_type": "code",
   "execution_count": 111,
   "metadata": {},
   "outputs": [
    {
     "data": {
      "text/plain": [
       "2719089"
      ]
     },
     "execution_count": 111,
     "metadata": {},
     "output_type": "execute_result"
    }
   ],
   "source": [
    "match_info.id"
   ]
  },
  {
   "attachments": {},
   "cell_type": "markdown",
   "metadata": {},
   "source": [
    "now get the live score for the match"
   ]
  },
  {
   "cell_type": "code",
   "execution_count": 106,
   "metadata": {},
   "outputs": [],
   "source": [
    "## if match today = 1\n",
    "match_id = \"2719009\"\n",
    "url = \"https://cricket-live-data.p.rapidapi.com/match/\" + match_id\n",
    "headers = {\n",
    "\t\"X-RapidAPI-Key\": X_RapidAPI_Key,\n",
    "\t\"X-RapidAPI-Host\": X_RapidAPI_Host\n",
    "}\n",
    "response = requests.get(url, headers=headers)\n",
    "json_data = response.json()"
   ]
  },
  {
   "cell_type": "code",
   "execution_count": 107,
   "metadata": {},
   "outputs": [
    {
     "data": {
      "text/plain": [
       "[3181152,\n",
       " 1137432,\n",
       " 833760,\n",
       " 2143365,\n",
       " 99435,\n",
       " 26763,\n",
       " 704037,\n",
       " 84255,\n",
       " 761418,\n",
       " 134496,\n",
       " 2559807,\n",
       " 975090,\n",
       " 3479145,\n",
       " 90147,\n",
       " 3251565,\n",
       " 796704,\n",
       " 2353149]"
      ]
     },
     "execution_count": 107,
     "metadata": {},
     "output_type": "execute_result"
    }
   ],
   "source": [
    "list_batsmen = []\n",
    "try:\n",
    "    scorecard = json_data['results']['live_details']['scorecard']\n",
    "except:\n",
    "    scorecard = None\n",
    "\n",
    "if scorecard != None:\n",
    "    for item1 in scorecard:\n",
    "        for item2 in item1['batting']:\n",
    "            list_batsmen.append(item2['player_id'])\n",
    "\n",
    "list_batsmen"
   ]
  },
  {
   "cell_type": "code",
   "execution_count": 110,
   "metadata": {},
   "outputs": [
    {
     "name": "stdout",
     "output_type": "stream",
     "text": [
      "he is out to bat\n"
     ]
    }
   ],
   "source": [
    "if player_id in list_batsmen:\n",
    "    print(\"he is out to bat\")"
   ]
  },
  {
   "cell_type": "code",
   "execution_count": null,
   "metadata": {},
   "outputs": [],
   "source": []
  }
 ],
 "metadata": {
  "kernelspec": {
   "display_name": "Python 3",
   "language": "python",
   "name": "python3"
  },
  "language_info": {
   "codemirror_mode": {
    "name": "ipython",
    "version": 3
   },
   "file_extension": ".py",
   "mimetype": "text/x-python",
   "name": "python",
   "nbconvert_exporter": "python",
   "pygments_lexer": "ipython3",
   "version": "3.10.6"
  },
  "orig_nbformat": 4
 },
 "nbformat": 4,
 "nbformat_minor": 2
}
